{
 "cells": [
  {
   "cell_type": "code",
   "execution_count": 2,
   "metadata": {},
   "outputs": [],
   "source": [
    "from IPython.display import clear_output\n",
    "import pandas as pd \n",
    "import subprocess #run R code from subprocess\n",
    "import numpy as np\n",
    "from os import listdir # get dir list\n",
    "from os.path import isfile, join # get dir list\n",
    "\n",
    "import time\n",
    "import concurrent.futures"
   ]
  },
  {
   "cell_type": "code",
   "execution_count": 3,
   "metadata": {},
   "outputs": [],
   "source": [
    "def getFolderFilesList(path):\n",
    "    return [filename for filename in listdir(path) if isfile(join(path, filename))]\n",
    "\n",
    "def runNoiseFilter (file, count):\n",
    "    # subprocess.call (\"Rscript --vanilla HARF.r \" + file, shell=True)\n",
    "    !{\"Rscript --vanilla GE.r \" + file}"
   ]
  },
  {
   "cell_type": "code",
   "execution_count": 39,
   "metadata": {},
   "outputs": [
    {
     "name": "stdout",
     "output_type": "stream",
     "text": [
      "exec 11122 / 11160\n",
      "tempo de execução: 255 min 26 s\n"
     ]
    }
   ],
   "source": [
    "\n",
    "# datasetsFilesNames = getFolderFilesList(\"NoisyDatasets\")\n",
    "# smallSet = datasetsFilesNames\n",
    "# start = time.perf_counter()\n",
    "# count = 0\n",
    "# # with concurrent.futures.ProcessPoolExecutor(4) as executor:\n",
    "# #     executor.map(runNoiseFilter, smallSet)\n",
    "\n",
    "# with concurrent.futures.ProcessPoolExecutor(20) as executor:\n",
    "# #                 results = executor.map(runMFE, smallSet)\n",
    "#     results = [executor.submit(runNoiseFilter, dataset, count) for dataset in smallSet]\n",
    "#     for s in concurrent.futures.as_completed(results):\n",
    "#         clear_output(wait=True)\n",
    "#         count+=1\n",
    "#         finish = time.perf_counter()\n",
    "#         print (\"exec \" + str(count) + \" / \" + str(len(datasetsFilesNames)))\n",
    "#         print(f'tempo de execução: {int((finish-start)/60)} min {int((finish-start)%60)} s')\n",
    "# finish = time.perf_counter()\n",
    "# print(f'terminou em: {int((finish-start)/60)} min {int((finish-start)%60)} s')"
   ]
  },
  {
   "cell_type": "code",
   "execution_count": 4,
   "metadata": {},
   "outputs": [
    {
     "name": "stdout",
     "output_type": "stream",
     "text": [
      "Warning message:\n",
      "In file(con, \"rb\") :\n",
      "  cannot open file '/home/lpfgarcia/pedropio/NoiseSelection/renv/library/R-3.6/x86_64-pc-linux-gnu/renv/DESCRIPTION': No such file or directory\n",
      "Warning message:\n",
      "The following package(s) are missing entries in the cache:\n",
      "\n",
      "\trenv\n",
      "\n",
      "These packages will need to be reinstalled.\n",
      " \n",
      "Error : \"~/pedropio/NoiseSelection/renv/library/R-3.6/x86_64-pc-linux-gnu/renv\" does not exist\n",
      "Error : target file '/home/lpfgarcia/pedropio/NoiseSelection/renv/library/R-3.6/x86_64-pc-linux-gnu/renv' already exists\n",
      "Error : target file '/home/lpfgarcia/pedropio/NoiseSelection/renv/library/R-3.6/x86_64-pc-linux-gnu/renv' already exists\n",
      "Warning message:\n",
      "The following package(s) are missing entries in the cache:\n",
      "\n",
      "\trenv\n",
      "\n",
      "These packages will need to be reinstalled.\n",
      " \n",
      "Error : \"~/pedropio/NoiseSelection/renv/library/R-3.6/x86_64-pc-linux-gnu/renv\" does not exist\n",
      "Error : \"~/pedropio/NoiseSelection/renv/library/R-3.6/x86_64-pc-linux-gnu/renv\" does not exist\n",
      "In addition: Warning message:\n",
      "The following package(s) are missing entries in the cache:\n",
      "\n",
      "\trenv\n",
      "\n",
      "These packages will need to be reinstalled.\n",
      " \n",
      "Warning message:\n",
      "In file(con, \"rb\") :\n",
      "  cannot open file '/home/lpfgarcia/pedropio/NoiseSelection/renv/library/R-3.6/x86_64-pc-linux-gnu/renv/DESCRIPTION': No such file or directory\n",
      "Error in file(con, \"rb\") : cannot open the connection\n",
      "In addition: Warning message:\n",
      "In file(con, \"rb\") :\n",
      "  cannot open file '/home/lpfgarcia/pedropio/NoiseSelection/renv/library/R-3.6/x86_64-pc-linux-gnu/renv/DESCRIPTION': No such file or directory\n",
      "Error : source file '/home/lpfgarcia/pedropio/NoiseSelection/renv/library/R-3.6/x86_64-pc-linux-gnu/renv' does not exist\n",
      "Error : target file '/home/lpfgarcia/pedropio/NoiseSelection/renv/library/R-3.6/x86_64-pc-linux-gnu/renv' already exists\n",
      "Error : target file '/home/lpfgarcia/pedropio/NoiseSelection/renv/library/R-3.6/x86_64-pc-linux-gnu/renv' already exists\n",
      "Error : \"~/pedropio/NoiseSelection/renv/library/R-3.6/x86_64-pc-linux-gnu/renv\" does not exist\n",
      "Error : target file '/home/lpfgarcia/pedropio/NoiseSelection/renv/library/R-3.6/x86_64-pc-linux-gnu/renv' already exists\n",
      "In addition: Warning message:\n",
      "The following package(s) are missing entries in the cache:\n",
      "\n",
      "\trenv\n",
      "\n",
      "These packages will need to be reinstalled.\n",
      " \n",
      "Warning message:\n",
      "In file(con, \"rb\") :\n",
      "  cannot open file '/home/lpfgarcia/pedropio/NoiseSelection/renv/library/R-3.6/x86_64-pc-linux-gnu/renv/DESCRIPTION': No such file or directory\n",
      "Error : source file '/home/lpfgarcia/pedropio/NoiseSelection/renv/library/R-3.6/x86_64-pc-linux-gnu/renv' does not exist\n",
      "Error : target file '/home/lpfgarcia/pedropio/NoiseSelection/renv/library/R-3.6/x86_64-pc-linux-gnu/renv' already exists\n",
      "Error : target file '/home/lpfgarcia/pedropio/NoiseSelection/renv/library/R-3.6/x86_64-pc-linux-gnu/renv' already exists\n",
      "Error : target file '/home/lpfgarcia/pedropio/NoiseSelection/renv/library/R-3.6/x86_64-pc-linux-gnu/renv' already exists\n",
      "Error : \"~/pedropio/NoiseSelection/renv/library/R-3.6/x86_64-pc-linux-gnu/renv\" does not exist\n",
      "Error : source file '/home/lpfgarcia/pedropio/NoiseSelection/renv/library/R-3.6/x86_64-pc-linux-gnu/renv' does not exist\n",
      "Error : could not copy / move file '/home/lpfgarcia/pedropio/NoiseSelection/renv/library/R-3.6/x86_64-pc-linux-gnu/renv' to '/home/lpfgarcia/pedropio/NoiseSelection/renv/library/R-3.6/x86_64-pc-linux-gnu/.renv-backup-renv3741d8530a2d92'\n",
      "move: cannot rename file '/home/lpfgarcia/pedropio/NoiseSelection/renv/library/R-3.6/x86_64-pc-linux-gnu/renv' to '/home/lpfgarcia/pedropio/NoiseSelection/renv/library/R-3.6/x86_64-pc-linux-gnu/.renv-backup-renv3741d8530a2d92', reason 'No such file or directory'\n",
      "copy: source file '/home/lpfgarcia/pedropio/NoiseSelection/renv/library/R-3.6/x86_64-pc-linux-gnu/renv' does not exist\n",
      "Error : target file '/home/lpfgarcia/pedropio/NoiseSelection/renv/library/R-3.6/x86_64-pc-linux-gnu/renv' already exists\n",
      "In addition: Warning message:\n",
      "The following package(s) are missing entries in the cache:\n",
      "\n",
      "\trenv\n",
      "\n",
      "These packages will need to be reinstalled.\n",
      " \n",
      "Error : could not copy / move file '/home/lpfgarcia/pedropio/NoiseSelection/renv/library/R-3.6/x86_64-pc-linux-gnu/renv' to '/home/lpfgarcia/pedropio/NoiseSelection/renv/library/R-3.6/x86_64-pc-linux-gnu/.renv-backup-renv3741c939d18fa4'\n",
      "move: cannot rename file '/home/lpfgarcia/pedropio/NoiseSelection/renv/library/R-3.6/x86_64-pc-linux-gnu/renv' to '/home/lpfgarcia/pedropio/NoiseSelection/renv/library/R-3.6/x86_64-pc-linux-gnu/.renv-backup-renv3741c939d18fa4', reason 'No such file or directory'\n",
      "copy: source file '/home/lpfgarcia/pedropio/NoiseSelection/renv/library/R-3.6/x86_64-pc-linux-gnu/renv' does not exist\n",
      "Error : \"~/pedropio/NoiseSelection/renv/library/R-3.6/x86_64-pc-linux-gnu/renv\" does not exist\n",
      "Error : target file '/home/lpfgarcia/pedropio/NoiseSelection/renv/library/R-3.6/x86_64-pc-linux-gnu/renv' already exists\n",
      "Error : \"~/pedropio/NoiseSelection/renv/library/R-3.6/x86_64-pc-linux-gnu/renv\" does not exist\n",
      "Error : target file '/home/lpfgarcia/pedropio/NoiseSelection/renv/library/R-3.6/x86_64-pc-linux-gnu/renv' already exists\n",
      "In addition: Warning message:\n",
      "The following package(s) are missing entries in the cache:\n",
      "\n",
      "\trenv\n",
      "\n",
      "These packages will need to be reinstalled.\n",
      " \n",
      "Error : target file '/home/lpfgarcia/pedropio/NoiseSelection/renv/library/R-3.6/x86_64-pc-linux-gnu/renv' already exists\n",
      "Error : target file '/home/lpfgarcia/pedropio/NoiseSelection/renv/library/R-3.6/x86_64-pc-linux-gnu/renv' already exists\n",
      "In addition: Warning message:\n",
      "The following package(s) are missing entries in the cache:\n",
      "\n",
      "\trenv\n",
      "\n",
      "These packages will need to be reinstalled.\n",
      " \n"
     ]
    }
   ],
   "source": [
    "\n",
    "datasetsFilesNames = getFolderFilesList(\"NoisyDatasets\")\n",
    "smallSet = datasetsFilesNames\n",
    "start = time.perf_counter()\n",
    "count = 0\n",
    "# with concurrent.futures.ProcessPoolExecutor(4) as executor:\n",
    "#     executor.map(runNoiseFilter, smallSet)\n",
    "\n",
    "with concurrent.futures.ProcessPoolExecutor(60) as executor:\n",
    "#                 results = executor.map(runMFE, smallSet)\n",
    "    results = [executor.submit(runNoiseFilter, dataset, count) for dataset in smallSet]\n",
    "    for s in concurrent.futures.as_completed(results):\n",
    "        clear_output(wait=True)\n",
    "        count+=1\n",
    "        # finish = time.perf_counter()\n",
    "        # print (\"exec \" + str(count) + \" / \" + str(len(datasetsFilesNames)))\n",
    "        # print(f'tempo de execução: {int((finish-start)/60)} min {int((finish-start)%60)} s')\n",
    "finish = time.perf_counter()\n",
    "print(f'terminou em: {int((finish-start)/60)} min {int((finish-start)%60)} s')"
   ]
  },
  {
   "cell_type": "code",
   "execution_count": 3,
   "metadata": {},
   "outputs": [
    {
     "name": "stdout",
     "output_type": "stream",
     "text": [
      "\u001b[?25h\u001b[?25h\u001b[?25h\u001b[?25h\u001b[?25h\u001b[?25h\u001b[?25h\u001b[?25h\u001b[?25h\u001b[?25h\u001b[?25h\u001b[?25h\u001b[?25h\u001b[?25h\u001b[?25h"
     ]
    }
   ],
   "source": [
    "# len(getFolderFilesList(\"NoisyDatasets\"))\n",
    "# datasetsFilesNames\n",
    "datasetsFilesNames = getFolderFilesList(\"NoisyDatasets\")\n",
    "smallSet = datasetsFilesNames[0:60]\n",
    "for i in smallSet[0:1]:\n",
    "    runNoiseFilter(i,0)"
   ]
  },
  {
   "cell_type": "code",
   "execution_count": 33,
   "metadata": {},
   "outputs": [
    {
     "name": "stdout",
     "output_type": "stream",
     "text": [
      "\u001b[?25h\u001b[?25h\u001b[?25h\u001b[?25h\u001b[?25h\u001b[?25h\u001b[?25h\u001b[?25h\u001b[?25h"
     ]
    }
   ],
   "source": [
    "runNoiseFilter (datasetsFilesNames[0], 0)\n",
    "# /home/lpfgarcia/pedropio/NoiseSelection/Rscript"
   ]
  },
  {
   "cell_type": "code",
   "execution_count": 5,
   "metadata": {},
   "outputs": [
    {
     "data": {
      "text/plain": [
       "10740"
      ]
     },
     "execution_count": 5,
     "metadata": {},
     "output_type": "execute_result"
    }
   ],
   "source": [
    "len(getFolderFilesList('/home/lpfgarcia/pedropio/NoiseSelection/NoisyDatasetsAfterFilters/GE-3'))"
   ]
  }
 ],
 "metadata": {
  "kernelspec": {
   "display_name": "Python 3.8.10 ('NoiseEnvPy': venv)",
   "language": "python",
   "name": "python3"
  },
  "language_info": {
   "codemirror_mode": {
    "name": "ipython",
    "version": 3
   },
   "file_extension": ".py",
   "mimetype": "text/x-python",
   "name": "python",
   "nbconvert_exporter": "python",
   "pygments_lexer": "ipython3",
   "version": "3.8.10"
  },
  "orig_nbformat": 4,
  "vscode": {
   "interpreter": {
    "hash": "d254989c7deb2b225334963e78d5e6478062d5cac66ff1992e02605012abc9b0"
   }
  }
 },
 "nbformat": 4,
 "nbformat_minor": 2
}
